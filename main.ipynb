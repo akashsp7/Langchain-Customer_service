{
 "cells": [
  {
   "cell_type": "code",
   "execution_count": 1,
   "metadata": {},
   "outputs": [],
   "source": [
    "import warnings\n",
    "warnings.filterwarnings('ignore')"
   ]
  },
  {
   "cell_type": "code",
   "execution_count": 2,
   "metadata": {},
   "outputs": [],
   "source": [
    "import pandas as pd\n",
    "from langchain.prompts import ChatPromptTemplate\n",
    "from langchain.chains import SequentialChain, LLMChain\n",
    "from langchain.chat_models import ChatOpenAI\n",
    "import os"
   ]
  },
  {
   "cell_type": "code",
   "execution_count": 3,
   "metadata": {},
   "outputs": [],
   "source": [
    "os.environ['OPENAI_API_KEY'] = \"YOUR_API_KEY\""
   ]
  },
  {
   "cell_type": "code",
   "execution_count": 4,
   "metadata": {},
   "outputs": [
    {
     "data": {
      "text/html": [
       "<div>\n",
       "<style scoped>\n",
       "    .dataframe tbody tr th:only-of-type {\n",
       "        vertical-align: middle;\n",
       "    }\n",
       "\n",
       "    .dataframe tbody tr th {\n",
       "        vertical-align: top;\n",
       "    }\n",
       "\n",
       "    .dataframe thead th {\n",
       "        text-align: right;\n",
       "    }\n",
       "</style>\n",
       "<table border=\"1\" class=\"dataframe\">\n",
       "  <thead>\n",
       "    <tr style=\"text-align: right;\">\n",
       "      <th></th>\n",
       "      <th>Reviews</th>\n",
       "      <th>Rating</th>\n",
       "      <th>Names</th>\n",
       "    </tr>\n",
       "  </thead>\n",
       "  <tbody>\n",
       "    <tr>\n",
       "      <th>0</th>\n",
       "      <td>I bought this necklace for my wife's birthday,...</td>\n",
       "      <td>5</td>\n",
       "      <td>Alice</td>\n",
       "    </tr>\n",
       "    <tr>\n",
       "      <th>1</th>\n",
       "      <td>This necklace exceeded my expectations. It's d...</td>\n",
       "      <td>5</td>\n",
       "      <td>Bob</td>\n",
       "    </tr>\n",
       "    <tr>\n",
       "      <th>2</th>\n",
       "      <td>このネックレスは本当に素晴らしいです。妻へのプレゼントとして購入しましたが、彼女はとても気に...</td>\n",
       "      <td>5</td>\n",
       "      <td>Chisato</td>\n",
       "    </tr>\n",
       "    <tr>\n",
       "      <th>3</th>\n",
       "      <td>यह हार बहुत ही सुंदर है। यह मेरे द्वारा खरीदे ...</td>\n",
       "      <td>4</td>\n",
       "      <td>Deepak</td>\n",
       "    </tr>\n",
       "    <tr>\n",
       "      <th>4</th>\n",
       "      <td>I'm very pleased with this necklace. It's well...</td>\n",
       "      <td>4</td>\n",
       "      <td>Elenor</td>\n",
       "    </tr>\n",
       "    <tr>\n",
       "      <th>5</th>\n",
       "      <td>The necklace is pretty, but it's more delicate...</td>\n",
       "      <td>3</td>\n",
       "      <td>Francis</td>\n",
       "    </tr>\n",
       "    <tr>\n",
       "      <th>6</th>\n",
       "      <td>The necklace looks good, but the quality is av...</td>\n",
       "      <td>3</td>\n",
       "      <td>George</td>\n",
       "    </tr>\n",
       "    <tr>\n",
       "      <th>7</th>\n",
       "      <td>The necklace broke after just one week of wear...</td>\n",
       "      <td>1</td>\n",
       "      <td>Hannah</td>\n",
       "    </tr>\n",
       "    <tr>\n",
       "      <th>8</th>\n",
       "      <td>The necklace looks cheap and not as elegant as...</td>\n",
       "      <td>2</td>\n",
       "      <td>Ian</td>\n",
       "    </tr>\n",
       "    <tr>\n",
       "      <th>9</th>\n",
       "      <td>期待していたよりも品質が低かったです。チェーンがすぐに切れてしまい、ペンダントもあまり輝きま...</td>\n",
       "      <td>2</td>\n",
       "      <td>Jiro</td>\n",
       "    </tr>\n",
       "  </tbody>\n",
       "</table>\n",
       "</div>"
      ],
      "text/plain": [
       "                                             Reviews  Rating    Names\n",
       "0  I bought this necklace for my wife's birthday,...       5    Alice\n",
       "1  This necklace exceeded my expectations. It's d...       5      Bob\n",
       "2  このネックレスは本当に素晴らしいです。妻へのプレゼントとして購入しましたが、彼女はとても気に...       5  Chisato\n",
       "3  यह हार बहुत ही सुंदर है। यह मेरे द्वारा खरीदे ...       4   Deepak\n",
       "4  I'm very pleased with this necklace. It's well...       4   Elenor\n",
       "5  The necklace is pretty, but it's more delicate...       3  Francis\n",
       "6  The necklace looks good, but the quality is av...       3   George\n",
       "7  The necklace broke after just one week of wear...       1   Hannah\n",
       "8  The necklace looks cheap and not as elegant as...       2      Ian\n",
       "9  期待していたよりも品質が低かったです。チェーンがすぐに切れてしまい、ペンダントもあまり輝きま...       2     Jiro"
      ]
     },
     "execution_count": 4,
     "metadata": {},
     "output_type": "execute_result"
    }
   ],
   "source": [
    "data = 'reviews.csv'\n",
    "df = pd.read_csv(data, delimiter=\",\")\n",
    "df"
   ]
  },
  {
   "cell_type": "code",
   "execution_count": null,
   "metadata": {},
   "outputs": [],
   "source": [
    "llm = ChatOpenAI(temperature=0.7, model=\"gpt-3.5-turbo\", verbose=True)"
   ]
  },
  {
   "cell_type": "code",
   "execution_count": 6,
   "metadata": {},
   "outputs": [],
   "source": [
    "from langchain.output_parsers import ResponseSchema\n",
    "from langchain.output_parsers import StructuredOutputParser"
   ]
  },
  {
   "cell_type": "code",
   "execution_count": 7,
   "metadata": {},
   "outputs": [],
   "source": [
    "reply_schema = ResponseSchema(name=\"Reply\",\n",
    "                             description=\"Check whether the match is Yes or No.\\\n",
    "                                 If the match is yes, write a suitable response for the review. (The reply should be polite and thankful for positive sentiments and should be apologetic for negative sentiments.)\\\n",
    "                                 If the match is no AND rating is above 3, write a suitable thankful response but sternly mention how the rating does not match the user's sentiment.\\\n",
    "                                 The output should be a single string response in 'Customer's Language' without any mention of match:Yes/No.\")\n",
    "tags_schema = ResponseSchema(name=\"Tags\",\n",
    "                                      description=\"Identify the key points mentioned in the review and create a list of those points.\\\n",
    "                                          For example: ['Affordable', 'cheap']. The output should be a single list\")\n",
    "\n",
    "response_schemas = [reply_schema, \n",
    "                    tags_schema]"
   ]
  },
  {
   "cell_type": "code",
   "execution_count": 8,
   "metadata": {},
   "outputs": [],
   "source": [
    "output_parser = StructuredOutputParser.from_response_schemas(response_schemas)\n",
    "format_instructions = output_parser.get_format_instructions()"
   ]
  },
  {
   "cell_type": "code",
   "execution_count": null,
   "metadata": {},
   "outputs": [],
   "source": [
    "prompt1 = ChatPromptTemplate.from_template('''\n",
    "    Translate the following review to English:\n",
    "    \\n\\n {review}\n",
    "    '''\n",
    ")\n",
    "\n",
    "chain1 = LLMChain(llm=llm, prompt=prompt1, output_key='English_review')\n",
    "\n",
    "prompt2 = ChatPromptTemplate.from_template('''\n",
    "    Identify the sentiment of the review and remember it as either POSTIVE, NEUTRAL OR NEGATIVE.\n",
    "    \\n\\n Review: {English_review}\n",
    "    \\n\\n Check whether the original rating: '{rating}' matches the sentiment you identified (Ratings are from 1-5 and positive sentiment correlates with \\\n",
    "        ratings above 3, neutral for 3 and below 3 is negative sentiment) and remember it as Match: Yes/No\n",
    "    \\n\\n Identify the language used here: {review} and remember is as 'Customer's Language'.\n",
    "    \n",
    "    Return the following as output:\n",
    "    {format_instructions}\n",
    "    '''\n",
    ")\n",
    "\n",
    "chain2 = LLMChain(llm=llm, prompt=prompt2, output_key='Result_dictionary')"
   ]
  },
  {
   "cell_type": "code",
   "execution_count": 10,
   "metadata": {},
   "outputs": [],
   "source": [
    "overall_chain = SequentialChain(\n",
    "    chains=[chain1, chain2],\n",
    "    input_variables=[\"review\", \"rating\", \"format_instructions\"],\n",
    "    output_variables=[\"Result_dictionary\"],\n",
    "    verbose=False)"
   ]
  },
  {
   "cell_type": "code",
   "execution_count": null,
   "metadata": {},
   "outputs": [],
   "source": [
    "output_df = pd.DataFrame(columns=['Name', 'Reply', 'Tags'])\n",
    "for i in range(len(df)):\n",
    "    review = df.Reviews[i]\n",
    "    rating = df.Rating[i]\n",
    "    name = df.Names[i]\n",
    "    chain_output = overall_chain({'review':review, 'rating':rating, 'format_instructions':format_instructions})\n",
    "    output_dict = output_parser.parse(chain_output.get('Result_dictionary'))\n",
    "    output_dict['Names'] = name\n",
    "    new_row = pd.DataFrame([output_dict])\n",
    "    output_df = pd.concat([output_df, new_row], ignore_index=True)"
   ]
  },
  {
   "cell_type": "code",
   "execution_count": 18,
   "metadata": {},
   "outputs": [
    {
     "name": "stdout",
     "output_type": "stream",
     "text": [
      "Name: Alice\n",
      "Review: I bought this necklace for my wife's birthday, and she absolutely loves it! The craftsmanship is excellent, and the diamonds sparkle beautifully. It's elegant and perfect for both everyday wear and special occasions. Highly recommend!\n",
      "Rating: 5\n",
      "Reply: Thank you so much for your kind words! We're thrilled to hear that your wife loves the necklace and that it's perfect for everyday wear and special occasions. We appreciate your recommendation!\n",
      "Tags: ['Craftsmanship', 'Diamonds', 'Elegant', 'Everyday wear', 'Special occasions']\n",
      "\n",
      "Name: Bob\n",
      "Review: This necklace exceeded my expectations. It's dainty but feels substantial and well-made. The pendant catches the light perfectly, making it a real eye-catcher. Great value for the price!\n",
      "Rating: 5\n",
      "Reply: Thank you for your glowing review! We are thrilled to hear that the necklace exceeded your expectations and that you find it to be a standout piece. We strive to provide excellent value for our customers, and we are delighted that you feel the same way.\n",
      "Tags: ['exceeded expectations', 'dainty', 'well-made', 'eye-catcher', 'great value']\n",
      "\n",
      "Name: Chisato\n",
      "Review: このネックレスは本当に素晴らしいです。妻へのプレゼントとして購入しましたが、彼女はとても気に入っています。品質が高く、デザインも美しいです。強くお勧めします！\n",
      "Rating: 5\n",
      "Reply: お客様の素敵なレビューをありがとうございます！ネックレスが気に入っていただけて嬉しいです。引き続きご愛顧いただけることを願っております。\n",
      "Tags: ['wonderful', 'high quality', 'beautiful design']\n",
      "\n",
      "Name: Deepak\n",
      "Review: यह हार बहुत ही सुंदर है। यह मेरे द्वारा खरीदे गए सर्वश्रेष्ठ उपहारों में से एक है। केवल एक छोटा मुद्दा है, और वह है क्लैप्स। फिर भी, कुल मिलाकर यह एक शानदार खरीद है।\n",
      "Rating: 4\n",
      "Reply: धन्यवाद आपके इस सुंदर समीक्षा के लिए। हमें खुशी है कि आपको यह हार पसंद आई। हम क्लैप्स के मुद्दे के लिए माफी चाहते हैं।\n",
      "Tags: ['Beautiful', 'Best gifts', 'Clasps issue', 'Wonderful purchase']\n",
      "\n",
      "Name: Elenor\n",
      "Review: I'm very pleased with this necklace. It's well-crafted and looks beautiful. The only reason I'm giving it 4 stars instead of 5 is that the delivery was a bit slow. But the product itself is fantastic!\n",
      "Rating: 4\n",
      "Reply: Thank you for your feedback! We're glad to hear that you are happy with the necklace. We apologize for the slow delivery, and we will work on improving our shipping times.\n",
      "Tags: ['well-made', 'beautiful', 'slow delivery', 'fantastic']\n",
      "\n",
      "Name: Francis\n",
      "Review: The necklace is pretty, but it's more delicate than I expected. I'm worried it might break easily. It's nice for special occasions, but I wouldn't wear it every day.\n",
      "Rating: 3\n",
      "Reply: Thank you for your feedback. We're glad you find the necklace beautiful. We apologize for any concerns about its fragility. Your input helps us improve our products.\n",
      "Tags: ['Beautiful', 'Fragile', 'Special occasions']\n",
      "\n",
      "Name: George\n",
      "Review: The necklace looks good, but the quality is average. The clasp feels a bit flimsy, and the chain is thinner than I thought it would be. It's okay for the price, but I was expecting a bit more.\n",
      "Rating: 3\n",
      "Reply: Thank you for your feedback. We appreciate your honest review and will take your comments into consideration for future improvements.\n",
      "Tags: ['Looks good', 'Average quality', 'Flimsy clasp', 'Thin chain', 'Expected more']\n",
      "\n",
      "Name: Hannah\n",
      "Review: The necklace broke after just one week of wearing it. The chain snapped, and the pendant fell off. Very poor quality, especially considering the price. Would not recommend.\n",
      "Rating: 1\n",
      "Reply: We are sorry to hear about your experience with our necklace. We strive to provide high-quality products and will look into improving our standards. Thank you for your feedback.\n",
      "Tags: ['Broken chain', 'Poor quality', 'Not recommended']\n",
      "\n",
      "Name: Ian\n",
      "Review: The necklace looks cheap and not as elegant as advertised. The stones don't shine much, and the overall appearance is underwhelming. I expected better quality for the price.\n",
      "Rating: 2\n",
      "Reply: We apologize for falling short of your expectations with the necklace. We strive to provide high-quality products and will take your feedback into consideration for future improvements. Thank you for sharing your thoughts.\n",
      "Tags: ['inexpensive', 'not classy', 'lack shine', 'disappointing', 'expected better quality']\n",
      "\n",
      "Name: Jiro\n",
      "Review: 期待していたよりも品質が低かったです。チェーンがすぐに切れてしまい、ペンダントもあまり輝きません。価格に見合った価値がありません。残念です。\n",
      "Rating: 2\n",
      "Reply: 残念ながら、お求めになった商品が期待に添えなかったこと、申し訳ございません。今後の改善に努めます。\n",
      "Tags: ['品質が低い', 'チェーンがすぐに切れる', 'ペンダントが輝かない', '価格に見合わない']\n",
      "\n"
     ]
    }
   ],
   "source": [
    "for i in range(len(df)):\n",
    "    review = df.loc[i]\n",
    "    output = output_df.loc[i]\n",
    "    print(f'''Name: {review.Names}\n",
    "Review: {review.Reviews}\n",
    "Rating: {review.Rating}\n",
    "Reply: {output.Reply}\n",
    "Tags: {output.Tags}\n",
    "''')"
   ]
  },
  {
   "cell_type": "code",
   "execution_count": null,
   "metadata": {},
   "outputs": [],
   "source": []
  }
 ],
 "metadata": {
  "kernelspec": {
   "display_name": "Python 3",
   "language": "python",
   "name": "python3"
  },
  "language_info": {
   "codemirror_mode": {
    "name": "ipython",
    "version": 3
   },
   "file_extension": ".py",
   "mimetype": "text/x-python",
   "name": "python",
   "nbconvert_exporter": "python",
   "pygments_lexer": "ipython3",
   "version": "3.11.5"
  },
  "orig_nbformat": 4
 },
 "nbformat": 4,
 "nbformat_minor": 2
}
